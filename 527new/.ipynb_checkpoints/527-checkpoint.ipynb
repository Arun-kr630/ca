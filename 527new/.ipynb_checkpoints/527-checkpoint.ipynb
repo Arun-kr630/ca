{
 "cells": [
  {
   "cell_type": "code",
   "execution_count": 1,
   "id": "1106f11f",
   "metadata": {},
   "outputs": [],
   "source": [
    "import pandas as pd"
   ]
  },
  {
   "cell_type": "code",
   "execution_count": 2,
   "id": "94b571cd",
   "metadata": {},
   "outputs": [
    {
     "data": {
      "text/html": [
       "<div>\n",
       "<style scoped>\n",
       "    .dataframe tbody tr th:only-of-type {\n",
       "        vertical-align: middle;\n",
       "    }\n",
       "\n",
       "    .dataframe tbody tr th {\n",
       "        vertical-align: top;\n",
       "    }\n",
       "\n",
       "    .dataframe thead th {\n",
       "        text-align: right;\n",
       "    }\n",
       "</style>\n",
       "<table border=\"1\" class=\"dataframe\">\n",
       "  <thead>\n",
       "    <tr style=\"text-align: right;\">\n",
       "      <th></th>\n",
       "      <th>#</th>\n",
       "      <th>started on Fri</th>\n",
       "      <th>01-10-2013 03:16</th>\n",
       "      <th>Unnamed: 3</th>\n",
       "      <th>Unnamed: 4</th>\n",
       "    </tr>\n",
       "  </thead>\n",
       "  <tbody>\n",
       "    <tr>\n",
       "      <th>0</th>\n",
       "      <td>NaN</td>\n",
       "      <td>NaN</td>\n",
       "      <td>NaN</td>\n",
       "      <td>NaN</td>\n",
       "      <td>NaN</td>\n",
       "    </tr>\n",
       "    <tr>\n",
       "      <th>1</th>\n",
       "      <td>#</td>\n",
       "      <td>time</td>\n",
       "      <td>counts unit</td>\n",
       "      <td>events</td>\n",
       "      <td>NaN</td>\n",
       "    </tr>\n",
       "    <tr>\n",
       "      <th>2</th>\n",
       "      <td>NaN</td>\n",
       "      <td>0.075138913</td>\n",
       "      <td>2,65,288</td>\n",
       "      <td>branch-misses</td>\n",
       "      <td>-54.97%</td>\n",
       "    </tr>\n",
       "    <tr>\n",
       "      <th>3</th>\n",
       "      <td>NaN</td>\n",
       "      <td>0.075138913</td>\n",
       "      <td>24,02,382</td>\n",
       "      <td>cache-misses</td>\n",
       "      <td>-66.09%</td>\n",
       "    </tr>\n",
       "    <tr>\n",
       "      <th>4</th>\n",
       "      <td>NaN</td>\n",
       "      <td>0.075138913</td>\n",
       "      <td>31,87,593</td>\n",
       "      <td>L1-dcache-load-misses</td>\n",
       "      <td>-66.05%</td>\n",
       "    </tr>\n",
       "    <tr>\n",
       "      <th>...</th>\n",
       "      <td>...</td>\n",
       "      <td>...</td>\n",
       "      <td>...</td>\n",
       "      <td>...</td>\n",
       "      <td>...</td>\n",
       "    </tr>\n",
       "    <tr>\n",
       "      <th>41932</th>\n",
       "      <td>NaN</td>\n",
       "      <td>261.8523425</td>\n",
       "      <td>2,42,305</td>\n",
       "      <td>LLC-load-misses</td>\n",
       "      <td>-34.00%</td>\n",
       "    </tr>\n",
       "    <tr>\n",
       "      <th>41933</th>\n",
       "      <td>NaN</td>\n",
       "      <td>261.8523425</td>\n",
       "      <td>2,317</td>\n",
       "      <td>LLC-store-misses</td>\n",
       "      <td>-34.00%</td>\n",
       "    </tr>\n",
       "    <tr>\n",
       "      <th>41934</th>\n",
       "      <td>NaN</td>\n",
       "      <td>261.8523425</td>\n",
       "      <td>71,068</td>\n",
       "      <td>branch-load-misses</td>\n",
       "      <td>-42.50%</td>\n",
       "    </tr>\n",
       "    <tr>\n",
       "      <th>41935</th>\n",
       "      <td>NaN</td>\n",
       "      <td>261.8523425</td>\n",
       "      <td>12,73,62,900</td>\n",
       "      <td>cycles</td>\n",
       "      <td>-50.59%</td>\n",
       "    </tr>\n",
       "    <tr>\n",
       "      <th>41936</th>\n",
       "      <td>NaN</td>\n",
       "      <td>261.8523425</td>\n",
       "      <td>31,23,02,588</td>\n",
       "      <td>instructions              #    2.45  insn per ...</td>\n",
       "      <td>-57.51%</td>\n",
       "    </tr>\n",
       "  </tbody>\n",
       "</table>\n",
       "<p>41937 rows × 5 columns</p>\n",
       "</div>"
      ],
      "text/plain": [
       "         # started on Fri 01-10-2013 03:16  \\\n",
       "0      NaN            NaN              NaN   \n",
       "1        #           time      counts unit   \n",
       "2      NaN    0.075138913         2,65,288   \n",
       "3      NaN    0.075138913        24,02,382   \n",
       "4      NaN    0.075138913        31,87,593   \n",
       "...    ...            ...              ...   \n",
       "41932  NaN    261.8523425         2,42,305   \n",
       "41933  NaN    261.8523425            2,317   \n",
       "41934  NaN    261.8523425           71,068   \n",
       "41935  NaN    261.8523425     12,73,62,900   \n",
       "41936  NaN    261.8523425     31,23,02,588   \n",
       "\n",
       "                                              Unnamed: 3 Unnamed: 4  \n",
       "0                                                    NaN        NaN  \n",
       "1                                                 events        NaN  \n",
       "2                                          branch-misses    -54.97%  \n",
       "3                                           cache-misses    -66.09%  \n",
       "4                                  L1-dcache-load-misses    -66.05%  \n",
       "...                                                  ...        ...  \n",
       "41932                                    LLC-load-misses    -34.00%  \n",
       "41933                                   LLC-store-misses    -34.00%  \n",
       "41934                                 branch-load-misses    -42.50%  \n",
       "41935                                             cycles    -50.59%  \n",
       "41936  instructions              #    2.45  insn per ...    -57.51%  \n",
       "\n",
       "[41937 rows x 5 columns]"
      ]
     },
     "execution_count": 2,
     "metadata": {},
     "output_type": "execute_result"
    }
   ],
   "source": [
    "df=pd.read_csv('527csv.csv')\n",
    "df"
   ]
  },
  {
   "cell_type": "code",
   "execution_count": 3,
   "id": "40aef50d",
   "metadata": {},
   "outputs": [],
   "source": [
    "df.columns=['A','B','C','D','E']\n",
    "df.head(10)\n",
    "df=df.drop(['A'], axis=1)\n",
    "df=df.drop([0,1])\n",
    "i1=list(df[df['C']=='counts unit'].index)\n",
    "df=df.drop(i1)\n",
    "df[df['C']=='counts unit']\n",
    "df.to_csv('file523.csv',index=False)"
   ]
  },
  {
   "cell_type": "code",
   "execution_count": 4,
   "id": "8829e46b",
   "metadata": {},
   "outputs": [],
   "source": [
    "df=pd.read_csv('file523.csv')"
   ]
  },
  {
   "cell_type": "code",
   "execution_count": 5,
   "id": "7afe42dd",
   "metadata": {},
   "outputs": [],
   "source": [
    "l=list(df['C'])"
   ]
  },
  {
   "cell_type": "code",
   "execution_count": 6,
   "id": "0e2a3d37",
   "metadata": {},
   "outputs": [
    {
     "name": "stdout",
     "output_type": "stream",
     "text": [
      "3482 3482 3482 3482 3482 3482 3482 3482 3482 3482 3482 3482\n"
     ]
    }
   ],
   "source": [
    "i=0\n",
    "l1=list()\n",
    "l2=list()\n",
    "l3=list()\n",
    "l4=list()\n",
    "l5=list()\n",
    "l6=list()\n",
    "l7=list()\n",
    "l8=list()\n",
    "l9=list()\n",
    "l10=list()\n",
    "l11=list()\n",
    "l12=list()\n",
    "\n",
    "while i<len(l)-12:\n",
    "    l1.append(int(l[i].replace(',', '')))\n",
    "    l2.append(int(l[i+1].replace(',', '')))\n",
    "    l3.append(int(l[2+i].replace(',', '')))\n",
    "    l4.append(int(l[3+i].replace(',', '')))\n",
    "    l5.append(int(l[4+i].replace(',', '')))\n",
    "    l6.append(int(l[5+i].replace(',', '')))\n",
    "    l7.append(int(l[6+i].replace(',', '')))\n",
    "    l8.append(int(l[7+i].replace(',', '')))\n",
    "    l9.append(int(l[8+i].replace(',', '')))\n",
    "    l10.append(int(l[9+i].replace(',', '')))\n",
    "    l11.append(int(l[10+i].replace(',', '')))\n",
    "    l12.append(int(l[11+i].replace(',', '')))\n",
    "    i+=12\n",
    "print(len(l1),len(l2),len(l3),len(l4),len(l5),len(l6),len(l7),len(l8),len(l9),len(l10),len(l11),len(l12))"
   ]
  },
  {
   "cell_type": "code",
   "execution_count": 7,
   "id": "5cd94e76",
   "metadata": {},
   "outputs": [],
   "source": [
    "events = {'branch-misses' : l1,'cache-misses' : l2,'L1-dcache-load-misses' : l3,'L1-icache-load-misses' : l4,\n",
    "\t'dTLB-load-misses' : l5,\n",
    "\t'dTLB-store-misses' : l6,\n",
    "    'iTLB-load-misses' : l7,\n",
    "\t'LLC-load-misses' : l8,\n",
    "\t'LLC-store-misses' : l9,\n",
    "    'branch-load-misses' : l10,\n",
    "\t'cycles' : l11,\n",
    "\t'instructions' : l12\n",
    "}\n",
    "new527csv = pd.DataFrame(events)"
   ]
  },
  {
   "cell_type": "code",
   "execution_count": 8,
   "id": "10bb0525",
   "metadata": {},
   "outputs": [],
   "source": [
    "new527csv.to_csv('new527csv.csv')"
   ]
  },
  {
   "cell_type": "code",
   "execution_count": 9,
   "id": "d9e92b07",
   "metadata": {},
   "outputs": [
    {
     "data": {
      "text/html": [
       "<div>\n",
       "<style scoped>\n",
       "    .dataframe tbody tr th:only-of-type {\n",
       "        vertical-align: middle;\n",
       "    }\n",
       "\n",
       "    .dataframe tbody tr th {\n",
       "        vertical-align: top;\n",
       "    }\n",
       "\n",
       "    .dataframe thead th {\n",
       "        text-align: right;\n",
       "    }\n",
       "</style>\n",
       "<table border=\"1\" class=\"dataframe\">\n",
       "  <thead>\n",
       "    <tr style=\"text-align: right;\">\n",
       "      <th></th>\n",
       "      <th>branch-misses</th>\n",
       "      <th>cache-misses</th>\n",
       "      <th>L1-dcache-load-misses</th>\n",
       "      <th>L1-icache-load-misses</th>\n",
       "      <th>dTLB-load-misses</th>\n",
       "      <th>dTLB-store-misses</th>\n",
       "      <th>iTLB-load-misses</th>\n",
       "      <th>LLC-load-misses</th>\n",
       "      <th>LLC-store-misses</th>\n",
       "      <th>branch-load-misses</th>\n",
       "      <th>cycles</th>\n",
       "      <th>instructions</th>\n",
       "    </tr>\n",
       "  </thead>\n",
       "  <tbody>\n",
       "    <tr>\n",
       "      <th>0</th>\n",
       "      <td>265288</td>\n",
       "      <td>2402382</td>\n",
       "      <td>3187593</td>\n",
       "      <td>853460</td>\n",
       "      <td>24391</td>\n",
       "      <td>356351</td>\n",
       "      <td>2121</td>\n",
       "      <td>37539</td>\n",
       "      <td>2140169</td>\n",
       "      <td>272620</td>\n",
       "      <td>215558553</td>\n",
       "      <td>498681327</td>\n",
       "    </tr>\n",
       "    <tr>\n",
       "      <th>1</th>\n",
       "      <td>241850</td>\n",
       "      <td>2880909</td>\n",
       "      <td>3284574</td>\n",
       "      <td>84742</td>\n",
       "      <td>17714</td>\n",
       "      <td>390169</td>\n",
       "      <td>329</td>\n",
       "      <td>43064</td>\n",
       "      <td>2696596</td>\n",
       "      <td>241090</td>\n",
       "      <td>231074860</td>\n",
       "      <td>525978130</td>\n",
       "    </tr>\n",
       "    <tr>\n",
       "      <th>2</th>\n",
       "      <td>100903</td>\n",
       "      <td>2844041</td>\n",
       "      <td>4593488</td>\n",
       "      <td>296742</td>\n",
       "      <td>21763</td>\n",
       "      <td>383992</td>\n",
       "      <td>3271</td>\n",
       "      <td>204165</td>\n",
       "      <td>2832381</td>\n",
       "      <td>122922</td>\n",
       "      <td>225898699</td>\n",
       "      <td>483716602</td>\n",
       "    </tr>\n",
       "    <tr>\n",
       "      <th>3</th>\n",
       "      <td>97666</td>\n",
       "      <td>3092116</td>\n",
       "      <td>8495598</td>\n",
       "      <td>296747</td>\n",
       "      <td>19294</td>\n",
       "      <td>335958</td>\n",
       "      <td>9273</td>\n",
       "      <td>483524</td>\n",
       "      <td>1625501</td>\n",
       "      <td>93369</td>\n",
       "      <td>223826467</td>\n",
       "      <td>440652693</td>\n",
       "    </tr>\n",
       "    <tr>\n",
       "      <th>4</th>\n",
       "      <td>151342</td>\n",
       "      <td>2547323</td>\n",
       "      <td>7639863</td>\n",
       "      <td>695263</td>\n",
       "      <td>21181</td>\n",
       "      <td>146184</td>\n",
       "      <td>20744</td>\n",
       "      <td>203784</td>\n",
       "      <td>1409077</td>\n",
       "      <td>165666</td>\n",
       "      <td>223866617</td>\n",
       "      <td>483676995</td>\n",
       "    </tr>\n",
       "    <tr>\n",
       "      <th>...</th>\n",
       "      <td>...</td>\n",
       "      <td>...</td>\n",
       "      <td>...</td>\n",
       "      <td>...</td>\n",
       "      <td>...</td>\n",
       "      <td>...</td>\n",
       "      <td>...</td>\n",
       "      <td>...</td>\n",
       "      <td>...</td>\n",
       "      <td>...</td>\n",
       "      <td>...</td>\n",
       "      <td>...</td>\n",
       "    </tr>\n",
       "    <tr>\n",
       "      <th>3477</th>\n",
       "      <td>868093</td>\n",
       "      <td>260681</td>\n",
       "      <td>12832171</td>\n",
       "      <td>966069</td>\n",
       "      <td>28047</td>\n",
       "      <td>8627</td>\n",
       "      <td>24730</td>\n",
       "      <td>6502</td>\n",
       "      <td>32157</td>\n",
       "      <td>887378</td>\n",
       "      <td>231984814</td>\n",
       "      <td>566389665</td>\n",
       "    </tr>\n",
       "    <tr>\n",
       "      <th>3478</th>\n",
       "      <td>946705</td>\n",
       "      <td>250919</td>\n",
       "      <td>12585353</td>\n",
       "      <td>960009</td>\n",
       "      <td>27490</td>\n",
       "      <td>8828</td>\n",
       "      <td>20413</td>\n",
       "      <td>6108</td>\n",
       "      <td>28948</td>\n",
       "      <td>965431</td>\n",
       "      <td>231791464</td>\n",
       "      <td>564163980</td>\n",
       "    </tr>\n",
       "    <tr>\n",
       "      <th>3479</th>\n",
       "      <td>955087</td>\n",
       "      <td>253569</td>\n",
       "      <td>12588066</td>\n",
       "      <td>964830</td>\n",
       "      <td>27015</td>\n",
       "      <td>8746</td>\n",
       "      <td>22094</td>\n",
       "      <td>6417</td>\n",
       "      <td>33051</td>\n",
       "      <td>946310</td>\n",
       "      <td>232124184</td>\n",
       "      <td>563388223</td>\n",
       "    </tr>\n",
       "    <tr>\n",
       "      <th>3480</th>\n",
       "      <td>975587</td>\n",
       "      <td>258778</td>\n",
       "      <td>12481499</td>\n",
       "      <td>956638</td>\n",
       "      <td>26720</td>\n",
       "      <td>8746</td>\n",
       "      <td>24396</td>\n",
       "      <td>6367</td>\n",
       "      <td>33067</td>\n",
       "      <td>959874</td>\n",
       "      <td>232044162</td>\n",
       "      <td>563553064</td>\n",
       "    </tr>\n",
       "    <tr>\n",
       "      <th>3481</th>\n",
       "      <td>1010914</td>\n",
       "      <td>244995</td>\n",
       "      <td>12405889</td>\n",
       "      <td>950658</td>\n",
       "      <td>26589</td>\n",
       "      <td>9061</td>\n",
       "      <td>22753</td>\n",
       "      <td>6818</td>\n",
       "      <td>28694</td>\n",
       "      <td>1014505</td>\n",
       "      <td>232044327</td>\n",
       "      <td>562964002</td>\n",
       "    </tr>\n",
       "  </tbody>\n",
       "</table>\n",
       "<p>3482 rows × 12 columns</p>\n",
       "</div>"
      ],
      "text/plain": [
       "      branch-misses  cache-misses  L1-dcache-load-misses  \\\n",
       "0            265288       2402382                3187593   \n",
       "1            241850       2880909                3284574   \n",
       "2            100903       2844041                4593488   \n",
       "3             97666       3092116                8495598   \n",
       "4            151342       2547323                7639863   \n",
       "...             ...           ...                    ...   \n",
       "3477         868093        260681               12832171   \n",
       "3478         946705        250919               12585353   \n",
       "3479         955087        253569               12588066   \n",
       "3480         975587        258778               12481499   \n",
       "3481        1010914        244995               12405889   \n",
       "\n",
       "      L1-icache-load-misses  dTLB-load-misses  dTLB-store-misses  \\\n",
       "0                    853460             24391             356351   \n",
       "1                     84742             17714             390169   \n",
       "2                    296742             21763             383992   \n",
       "3                    296747             19294             335958   \n",
       "4                    695263             21181             146184   \n",
       "...                     ...               ...                ...   \n",
       "3477                 966069             28047               8627   \n",
       "3478                 960009             27490               8828   \n",
       "3479                 964830             27015               8746   \n",
       "3480                 956638             26720               8746   \n",
       "3481                 950658             26589               9061   \n",
       "\n",
       "      iTLB-load-misses  LLC-load-misses  LLC-store-misses  branch-load-misses  \\\n",
       "0                 2121            37539           2140169              272620   \n",
       "1                  329            43064           2696596              241090   \n",
       "2                 3271           204165           2832381              122922   \n",
       "3                 9273           483524           1625501               93369   \n",
       "4                20744           203784           1409077              165666   \n",
       "...                ...              ...               ...                 ...   \n",
       "3477             24730             6502             32157              887378   \n",
       "3478             20413             6108             28948              965431   \n",
       "3479             22094             6417             33051              946310   \n",
       "3480             24396             6367             33067              959874   \n",
       "3481             22753             6818             28694             1014505   \n",
       "\n",
       "         cycles  instructions  \n",
       "0     215558553     498681327  \n",
       "1     231074860     525978130  \n",
       "2     225898699     483716602  \n",
       "3     223826467     440652693  \n",
       "4     223866617     483676995  \n",
       "...         ...           ...  \n",
       "3477  231984814     566389665  \n",
       "3478  231791464     564163980  \n",
       "3479  232124184     563388223  \n",
       "3480  232044162     563553064  \n",
       "3481  232044327     562964002  \n",
       "\n",
       "[3482 rows x 12 columns]"
      ]
     },
     "execution_count": 9,
     "metadata": {},
     "output_type": "execute_result"
    }
   ],
   "source": [
    "new527csv"
   ]
  },
  {
   "cell_type": "code",
   "execution_count": 10,
   "id": "53e6d21c",
   "metadata": {},
   "outputs": [],
   "source": [
    "import numpy as np\n",
    "import pandas as pd\n",
    "import matplotlib.pyplot as plt\n",
    "# %matplotlib notebook\n",
    "df=new527csv"
   ]
  },
  {
   "cell_type": "code",
   "execution_count": 11,
   "id": "113e3093",
   "metadata": {},
   "outputs": [],
   "source": [
    "df['cpi']=df['cycles']/df['instructions']"
   ]
  },
  {
   "cell_type": "code",
   "execution_count": 12,
   "id": "72c1dc91",
   "metadata": {},
   "outputs": [],
   "source": [
    "f2=list()\n",
    "def printCombination(arr, n, r):\n",
    "    data = [0]*r;\n",
    "    combinationUtil(arr, data, 0, n - 1, 0, r);\n",
    "def combinationUtil(arr, data, start, end, index, r):\n",
    "    if (index == r):\n",
    "        f1=list()\n",
    "        for j in range(r):\n",
    "#             print(data[j], end = \" \");\n",
    "            f1.append(data[j])\n",
    "#         print();\n",
    "        f2.append(f1)\n",
    "        return;\n",
    "    i = start; \n",
    "    while(i <= end and end - i + 1 >= r - index):\n",
    "        data[index] = arr[i];\n",
    "        combinationUtil(arr, data, i + 1, end, index + 1, r);\n",
    "        i += 1;\n",
    "\n",
    "# Driver Code\n",
    "arr = [0,1,2,3,4,5,6,7,8,9];\n",
    "r = 3;\n",
    "n = len(arr);\n",
    "\n",
    "for i in range(2,11):\n",
    "    printCombination(arr, n, i);\n",
    "# This code is contributed by mits"
   ]
  },
  {
   "cell_type": "code",
   "execution_count": 13,
   "id": "21e20725",
   "metadata": {},
   "outputs": [],
   "source": [
    "import numpy as np\n",
    "f3=list()\n",
    "for i in f2:\n",
    "    from sklearn.linear_model import LinearRegression\n",
    "    X = df.iloc[:,i]\n",
    "    Y = df.iloc[:, 12:]\n",
    "    from sklearn.model_selection import train_test_split\n",
    "    X_train, X_test, y_train, y_test = train_test_split(X, Y, test_size=0.30, random_state=42)\n",
    "    regr = LinearRegression()\n",
    "    regr.fit(X_train, y_train)\n",
    "    count=0\n",
    "    for j in regr.coef_[0]:\n",
    "        if j<0:\n",
    "            count+=1\n",
    "    if count==0:\n",
    "        f3.append(i)"
   ]
  },
  {
   "cell_type": "code",
   "execution_count": 14,
   "id": "882c2119",
   "metadata": {},
   "outputs": [
    {
     "name": "stdout",
     "output_type": "stream",
     "text": [
      "[3, 5]\n",
      "[3, 6]\n",
      "[3, 8]\n",
      "[5, 6]\n",
      "[6, 8]\n",
      "[3, 5, 6]\n",
      "[3, 5, 8]\n",
      "[3, 6, 8]\n",
      "[3, 5, 6, 8]\n"
     ]
    }
   ],
   "source": [
    "for i in f3:\n",
    "    print(i)"
   ]
  },
  {
   "cell_type": "code",
   "execution_count": 15,
   "id": "ee75d7b9",
   "metadata": {},
   "outputs": [
    {
     "data": {
      "text/plain": [
       "array([[2.40686326e-08, 1.38734476e-07, 8.40406198e-07]])"
      ]
     },
     "execution_count": 15,
     "metadata": {},
     "output_type": "execute_result"
    }
   ],
   "source": [
    "from sklearn.linear_model import LinearRegression\n",
    "i=[3, 5, 6]\n",
    "X = df.iloc[:,i]\n",
    "Y = df.iloc[:, 12:]\n",
    "from sklearn.model_selection import train_test_split\n",
    "X_train, X_test, y_train, y_test = train_test_split(X, Y, test_size=0.30, random_state=42)\n",
    "regr = LinearRegression()\n",
    "regr.fit(X_train, y_train)\n",
    "regr.coef_"
   ]
  },
  {
   "cell_type": "code",
   "execution_count": 16,
   "id": "91ad96ca",
   "metadata": {},
   "outputs": [],
   "source": [
    "# y_pred = list(regr.predict(X_test))\n",
    "# yt=list(y_test['cpi'])\n",
    "yp=regr.predict(X_test)\n",
    "\n",
    "# plt.plot(range(2287),yt,label=\"test\")\n",
    "# plt.plot(range(2287),y_pred,label=\"pred\")\n",
    "# plt.legend()"
   ]
  },
  {
   "cell_type": "code",
   "execution_count": 17,
   "id": "0b3cfa75",
   "metadata": {},
   "outputs": [
    {
     "data": {
      "text/plain": [
       "<seaborn.axisgrid.FacetGrid at 0x220f47d52b0>"
      ]
     },
     "execution_count": 17,
     "metadata": {},
     "output_type": "execute_result"
    },
    {
     "data": {
      "image/png": "[encoded data removed]",
      "text/plain": [
       "<Figure size 410.625x360 with 1 Axes>"
      ]
     },
     "metadata": {
      "needs_background": "light"
     },
     "output_type": "display_data"
    }
   ],
   "source": [
    "import seaborn as sns\n",
    "sns.displot(yp-y_test,kind='kde')"
   ]
  },
  {
   "cell_type": "code",
   "execution_count": 18,
   "id": "5ffccd27",
   "metadata": {},
   "outputs": [],
   "source": [
    "from sklearn.metrics import r2_score"
   ]
  },
  {
   "cell_type": "code",
   "execution_count": 19,
   "id": "9cd5f07d",
   "metadata": {},
   "outputs": [],
   "source": [
    "r2=r2_score(yp, y_test)"
   ]
  },
  {
   "cell_type": "code",
   "execution_count": 20,
   "id": "d121be18",
   "metadata": {},
   "outputs": [
    {
     "data": {
      "text/plain": [
       "-2.4911493857624913"
      ]
     },
     "execution_count": 20,
     "metadata": {},
     "output_type": "execute_result"
    }
   ],
   "source": [
    "r2"
   ]
  },
  {
   "cell_type": "code",
   "execution_count": 21,
   "id": "c004a70b",
   "metadata": {},
   "outputs": [
    {
     "data": {
      "text/plain": [
       "0.0016167405094953662"
      ]
     },
     "execution_count": 21,
     "metadata": {},
     "output_type": "execute_result"
    }
   ],
   "source": [
    "from sklearn.metrics import mean_squared_error\n",
    "rmse=mean_squared_error(yp, y_test)\n",
    "rmse"
   ]
  },
  {
   "cell_type": "code",
   "execution_count": 22,
   "id": "9ff7660b",
   "metadata": {},
   "outputs": [],
   "source": [
    "adjustedr2=1 - (1-r2)*(len(X_train.index)-1)/(len(X_train.index)-len(X_train.columns)-1)"
   ]
  },
  {
   "cell_type": "code",
   "execution_count": 23,
   "id": "93e17699",
   "metadata": {},
   "outputs": [
    {
     "data": {
      "text/plain": [
       "-2.4954541322307553"
      ]
     },
     "execution_count": 23,
     "metadata": {},
     "output_type": "execute_result"
    }
   ],
   "source": [
    "adjustedr2"
   ]
  },
  {
   "cell_type": "code",
   "execution_count": 24,
   "id": "e91afac6",
   "metadata": {},
   "outputs": [],
   "source": [
    "from sklearn.feature_selection import f_regression"
   ]
  },
  {
   "cell_type": "code",
   "execution_count": 28,
   "id": "5b9b5f03",
   "metadata": {},
   "outputs": [
    {
     "name": "stdout",
     "output_type": "stream",
     "text": [
      "[555.52244845   3.16337327 237.30755948] [8.20026302e-111 7.54321622e-002 3.63808858e-051]\n"
     ]
    },
    {
     "name": "stderr",
     "output_type": "stream",
     "text": [
      "C:\\Users\\Arun kumar\\anaconda3\\lib\\site-packages\\sklearn\\utils\\validation.py:993: DataConversionWarning: A column-vector y was passed when a 1d array was expected. Please change the shape of y to (n_samples, ), for example using ravel().\n",
      "  y = column_or_1d(y, warn=True)\n"
     ]
    }
   ],
   "source": [
    "f_stat,p_value=f_regression(X_train,y_train)\n",
    "print(f_stat,p_value)"
   ]
  },
  {
   "cell_type": "code",
   "execution_count": null,
   "id": "0da10036",
   "metadata": {},
   "outputs": [],
   "source": []
  }
 ],
 "metadata": {
  "kernelspec": {
   "display_name": "Python 3 (ipykernel)",
   "language": "python",
   "name": "python3"
  },
  "language_info": {
   "codemirror_mode": {
    "name": "ipython",
    "version": 3
   },
   "file_extension": ".py",
   "mimetype": "text/x-python",
   "name": "python",
   "nbconvert_exporter": "python",
   "pygments_lexer": "ipython3",
   "version": "3.9.12"
  }
 },
 "nbformat": 4,
 "nbformat_minor": 5
}
