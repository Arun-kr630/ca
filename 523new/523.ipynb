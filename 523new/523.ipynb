{
 "cells": [
  {
   "cell_type": "code",
   "execution_count": 1,
   "id": "dd892cf2",
   "metadata": {},
   "outputs": [],
   "source": [
    "import pandas as pd"
   ]
  },
  {
   "cell_type": "code",
   "execution_count": 2,
   "id": "77fd8192",
   "metadata": {},
   "outputs": [
    {
     "data": {
      "text/html": [
       "<div>\n",
       "<style scoped>\n",
       "    .dataframe tbody tr th:only-of-type {\n",
       "        vertical-align: middle;\n",
       "    }\n",
       "\n",
       "    .dataframe tbody tr th {\n",
       "        vertical-align: top;\n",
       "    }\n",
       "\n",
       "    .dataframe thead th {\n",
       "        text-align: right;\n",
       "    }\n",
       "</style>\n",
       "<table border=\"1\" class=\"dataframe\">\n",
       "  <thead>\n",
       "    <tr style=\"text-align: right;\">\n",
       "      <th></th>\n",
       "      <th>#</th>\n",
       "      <th>started on Fri</th>\n",
       "      <th>01-10-2013 01:37</th>\n",
       "      <th>Unnamed: 3</th>\n",
       "      <th>Unnamed: 4</th>\n",
       "    </tr>\n",
       "  </thead>\n",
       "  <tbody>\n",
       "    <tr>\n",
       "      <th>0</th>\n",
       "      <td>NaN</td>\n",
       "      <td>NaN</td>\n",
       "      <td>NaN</td>\n",
       "      <td>NaN</td>\n",
       "      <td>NaN</td>\n",
       "    </tr>\n",
       "    <tr>\n",
       "      <th>1</th>\n",
       "      <td>#</td>\n",
       "      <td>time</td>\n",
       "      <td>counts unit</td>\n",
       "      <td>events</td>\n",
       "      <td>NaN</td>\n",
       "    </tr>\n",
       "    <tr>\n",
       "      <th>2</th>\n",
       "      <td>NaN</td>\n",
       "      <td>0.075129829</td>\n",
       "      <td>7,44,589</td>\n",
       "      <td>branch-misses</td>\n",
       "      <td>-57.29%</td>\n",
       "    </tr>\n",
       "    <tr>\n",
       "      <th>3</th>\n",
       "      <td>NaN</td>\n",
       "      <td>0.075129829</td>\n",
       "      <td>2,31,833</td>\n",
       "      <td>cache-misses</td>\n",
       "      <td>-67.97%</td>\n",
       "    </tr>\n",
       "    <tr>\n",
       "      <th>4</th>\n",
       "      <td>NaN</td>\n",
       "      <td>0.075129829</td>\n",
       "      <td>96,67,348</td>\n",
       "      <td>L1-dcache-load-misses</td>\n",
       "      <td>-67.97%</td>\n",
       "    </tr>\n",
       "    <tr>\n",
       "      <th>...</th>\n",
       "      <td>...</td>\n",
       "      <td>...</td>\n",
       "      <td>...</td>\n",
       "      <td>...</td>\n",
       "      <td>...</td>\n",
       "    </tr>\n",
       "    <tr>\n",
       "      <th>42185</th>\n",
       "      <td>NaN</td>\n",
       "      <td>263.5036174</td>\n",
       "      <td>9,51,813</td>\n",
       "      <td>LLC-load-misses</td>\n",
       "      <td>-39.94%</td>\n",
       "    </tr>\n",
       "    <tr>\n",
       "      <th>42186</th>\n",
       "      <td>NaN</td>\n",
       "      <td>263.5036174</td>\n",
       "      <td>5,004</td>\n",
       "      <td>LLC-store-misses</td>\n",
       "      <td>-44.74%</td>\n",
       "    </tr>\n",
       "    <tr>\n",
       "      <th>42187</th>\n",
       "      <td>NaN</td>\n",
       "      <td>263.5036174</td>\n",
       "      <td>1,66,254</td>\n",
       "      <td>branch-load-misses</td>\n",
       "      <td>-55.94%</td>\n",
       "    </tr>\n",
       "    <tr>\n",
       "      <th>42188</th>\n",
       "      <td>NaN</td>\n",
       "      <td>263.5036174</td>\n",
       "      <td>15,43,20,350</td>\n",
       "      <td>cycles</td>\n",
       "      <td>-65.66%</td>\n",
       "    </tr>\n",
       "    <tr>\n",
       "      <th>42189</th>\n",
       "      <td>NaN</td>\n",
       "      <td>263.5036174</td>\n",
       "      <td>22,29,20,256</td>\n",
       "      <td>instructions              #    1.44  insn per ...</td>\n",
       "      <td>-71.26%</td>\n",
       "    </tr>\n",
       "  </tbody>\n",
       "</table>\n",
       "<p>42190 rows × 5 columns</p>\n",
       "</div>"
      ],
      "text/plain": [
       "         # started on Fri 01-10-2013 01:37  \\\n",
       "0      NaN            NaN              NaN   \n",
       "1        #           time      counts unit   \n",
       "2      NaN    0.075129829         7,44,589   \n",
       "3      NaN    0.075129829         2,31,833   \n",
       "4      NaN    0.075129829        96,67,348   \n",
       "...    ...            ...              ...   \n",
       "42185  NaN    263.5036174         9,51,813   \n",
       "42186  NaN    263.5036174            5,004   \n",
       "42187  NaN    263.5036174         1,66,254   \n",
       "42188  NaN    263.5036174     15,43,20,350   \n",
       "42189  NaN    263.5036174     22,29,20,256   \n",
       "\n",
       "                                              Unnamed: 3 Unnamed: 4  \n",
       "0                                                    NaN        NaN  \n",
       "1                                                 events        NaN  \n",
       "2                                          branch-misses    -57.29%  \n",
       "3                                           cache-misses    -67.97%  \n",
       "4                                  L1-dcache-load-misses    -67.97%  \n",
       "...                                                  ...        ...  \n",
       "42185                                    LLC-load-misses    -39.94%  \n",
       "42186                                   LLC-store-misses    -44.74%  \n",
       "42187                                 branch-load-misses    -55.94%  \n",
       "42188                                             cycles    -65.66%  \n",
       "42189  instructions              #    1.44  insn per ...    -71.26%  \n",
       "\n",
       "[42190 rows x 5 columns]"
      ]
     },
     "execution_count": 2,
     "metadata": {},
     "output_type": "execute_result"
    }
   ],
   "source": [
    "df=pd.read_csv('523csv.csv')\n",
    "df"
   ]
  },
  {
   "cell_type": "code",
   "execution_count": 3,
   "id": "0ef3fe86",
   "metadata": {},
   "outputs": [],
   "source": [
    "df.columns=['A','B','C','D','E']\n",
    "df.head(10)\n",
    "df=df.drop(['A'], axis=1)\n",
    "df=df.drop([0,1])\n",
    "i1=list(df[df['C']=='counts unit'].index)\n",
    "df=df.drop(i1)\n",
    "df[df['C']=='counts unit']\n",
    "df.to_csv('file523.csv',)"
   ]
  },
  {
   "cell_type": "code",
   "execution_count": 4,
   "id": "0dd52e26",
   "metadata": {},
   "outputs": [],
   "source": [
    "df=pd.read_csv('file523.csv')"
   ]
  },
  {
   "cell_type": "code",
   "execution_count": 5,
   "id": "844c3e50",
   "metadata": {},
   "outputs": [],
   "source": [
    "l=list(df['C'])"
   ]
  },
  {
   "cell_type": "code",
   "execution_count": 6,
   "id": "48758bec",
   "metadata": {},
   "outputs": [
    {
     "name": "stdout",
     "output_type": "stream",
     "text": [
      "3503 3503 3503 3503 3503 3503 3503 3503 3503 3503 3503 3503\n"
     ]
    }
   ],
   "source": [
    "i=0\n",
    "l1=list()\n",
    "l2=list()\n",
    "l3=list()\n",
    "l4=list()\n",
    "l5=list()\n",
    "l6=list()\n",
    "l7=list()\n",
    "l8=list()\n",
    "l9=list()\n",
    "l10=list()\n",
    "l11=list()\n",
    "l12=list()\n",
    "\n",
    "while i<len(l)-12:\n",
    "    l1.append(int(l[i].replace(',', '')))\n",
    "    l2.append(int(l[i+1].replace(',', '')))\n",
    "    l3.append(int(l[2+i].replace(',', '')))\n",
    "    l4.append(int(l[3+i].replace(',', '')))\n",
    "    l5.append(int(l[4+i].replace(',', '')))\n",
    "    l6.append(int(l[5+i].replace(',', '')))\n",
    "    l7.append(int(l[6+i].replace(',', '')))\n",
    "    l8.append(int(l[7+i].replace(',', '')))\n",
    "    l9.append(int(l[8+i].replace(',', '')))\n",
    "    l10.append(int(l[9+i].replace(',', '')))\n",
    "    l11.append(int(l[10+i].replace(',', '')))\n",
    "    l12.append(int(l[11+i].replace(',', '')))\n",
    "    i+=12\n",
    "print(len(l1),len(l2),len(l3),len(l4),len(l5),len(l6),len(l7),len(l8),len(l9),len(l10),len(l11),len(l12))"
   ]
  },
  {
   "cell_type": "code",
   "execution_count": 7,
   "id": "96ce5da7",
   "metadata": {},
   "outputs": [],
   "source": [
    "events = {'branch-misses' : l1,'cache-misses' : l2,'L1-dcache-load-misses' : l3,'L1-icache-load-misses' : l4,\n",
    "\t'dTLB-load-misses' : l5,\n",
    "\t'dTLB-store-misses' : l6,\n",
    "    'iTLB-load-misses' : l7,\n",
    "\t'LLC-load-misses' : l8,\n",
    "\t'LLC-store-misses' : l9,\n",
    "    'branch-load-misses' : l10,\n",
    "\t'cycles' : l11,\n",
    "\t'instructions' : l12\n",
    "}\n",
    "new523csv = pd.DataFrame(events)"
   ]
  },
  {
   "cell_type": "code",
   "execution_count": 8,
   "id": "9e1b5367",
   "metadata": {},
   "outputs": [],
   "source": [
    "new523csv.to_csv('new523csv.csv')"
   ]
  },
  {
   "cell_type": "code",
   "execution_count": 9,
   "id": "ca25aad9",
   "metadata": {},
   "outputs": [
    {
     "data": {
      "text/html": [
       "<div>\n",
       "<style scoped>\n",
       "    .dataframe tbody tr th:only-of-type {\n",
       "        vertical-align: middle;\n",
       "    }\n",
       "\n",
       "    .dataframe tbody tr th {\n",
       "        vertical-align: top;\n",
       "    }\n",
       "\n",
       "    .dataframe thead th {\n",
       "        text-align: right;\n",
       "    }\n",
       "</style>\n",
       "<table border=\"1\" class=\"dataframe\">\n",
       "  <thead>\n",
       "    <tr style=\"text-align: right;\">\n",
       "      <th></th>\n",
       "      <th>branch-misses</th>\n",
       "      <th>cache-misses</th>\n",
       "      <th>L1-dcache-load-misses</th>\n",
       "      <th>L1-icache-load-misses</th>\n",
       "      <th>dTLB-load-misses</th>\n",
       "      <th>dTLB-store-misses</th>\n",
       "      <th>iTLB-load-misses</th>\n",
       "      <th>LLC-load-misses</th>\n",
       "      <th>LLC-store-misses</th>\n",
       "      <th>branch-load-misses</th>\n",
       "      <th>cycles</th>\n",
       "      <th>instructions</th>\n",
       "    </tr>\n",
       "  </thead>\n",
       "  <tbody>\n",
       "    <tr>\n",
       "      <th>0</th>\n",
       "      <td>744589</td>\n",
       "      <td>231833</td>\n",
       "      <td>9667348</td>\n",
       "      <td>5162301</td>\n",
       "      <td>6149</td>\n",
       "      <td>16751</td>\n",
       "      <td>74810</td>\n",
       "      <td>14514</td>\n",
       "      <td>104936</td>\n",
       "      <td>732020</td>\n",
       "      <td>231404681</td>\n",
       "      <td>496362643</td>\n",
       "    </tr>\n",
       "    <tr>\n",
       "      <th>1</th>\n",
       "      <td>686784</td>\n",
       "      <td>128862</td>\n",
       "      <td>11453249</td>\n",
       "      <td>4037478</td>\n",
       "      <td>97675</td>\n",
       "      <td>12933</td>\n",
       "      <td>54000</td>\n",
       "      <td>13173</td>\n",
       "      <td>81779</td>\n",
       "      <td>689057</td>\n",
       "      <td>232051871</td>\n",
       "      <td>472561901</td>\n",
       "    </tr>\n",
       "    <tr>\n",
       "      <th>2</th>\n",
       "      <td>624231</td>\n",
       "      <td>145103</td>\n",
       "      <td>11704343</td>\n",
       "      <td>3605909</td>\n",
       "      <td>433630</td>\n",
       "      <td>15492</td>\n",
       "      <td>66003</td>\n",
       "      <td>13692</td>\n",
       "      <td>76504</td>\n",
       "      <td>618620</td>\n",
       "      <td>231959469</td>\n",
       "      <td>459856782</td>\n",
       "    </tr>\n",
       "    <tr>\n",
       "      <th>3</th>\n",
       "      <td>575496</td>\n",
       "      <td>124394</td>\n",
       "      <td>12204268</td>\n",
       "      <td>3401192</td>\n",
       "      <td>786373</td>\n",
       "      <td>17788</td>\n",
       "      <td>62934</td>\n",
       "      <td>15787</td>\n",
       "      <td>68350</td>\n",
       "      <td>582222</td>\n",
       "      <td>232165588</td>\n",
       "      <td>453432673</td>\n",
       "    </tr>\n",
       "    <tr>\n",
       "      <th>4</th>\n",
       "      <td>550001</td>\n",
       "      <td>142873</td>\n",
       "      <td>12619649</td>\n",
       "      <td>3153576</td>\n",
       "      <td>987161</td>\n",
       "      <td>17846</td>\n",
       "      <td>56971</td>\n",
       "      <td>15938</td>\n",
       "      <td>63676</td>\n",
       "      <td>543048</td>\n",
       "      <td>231676482</td>\n",
       "      <td>444207729</td>\n",
       "    </tr>\n",
       "    <tr>\n",
       "      <th>...</th>\n",
       "      <td>...</td>\n",
       "      <td>...</td>\n",
       "      <td>...</td>\n",
       "      <td>...</td>\n",
       "      <td>...</td>\n",
       "      <td>...</td>\n",
       "      <td>...</td>\n",
       "      <td>...</td>\n",
       "      <td>...</td>\n",
       "      <td>...</td>\n",
       "      <td>...</td>\n",
       "      <td>...</td>\n",
       "    </tr>\n",
       "    <tr>\n",
       "      <th>3498</th>\n",
       "      <td>237016</td>\n",
       "      <td>501004</td>\n",
       "      <td>15003844</td>\n",
       "      <td>661795</td>\n",
       "      <td>260152</td>\n",
       "      <td>10639</td>\n",
       "      <td>1568</td>\n",
       "      <td>31573</td>\n",
       "      <td>130306</td>\n",
       "      <td>217642</td>\n",
       "      <td>229347271</td>\n",
       "      <td>345786721</td>\n",
       "    </tr>\n",
       "    <tr>\n",
       "      <th>3499</th>\n",
       "      <td>228362</td>\n",
       "      <td>420810</td>\n",
       "      <td>15500808</td>\n",
       "      <td>620297</td>\n",
       "      <td>412081</td>\n",
       "      <td>14547</td>\n",
       "      <td>1828</td>\n",
       "      <td>25320</td>\n",
       "      <td>109594</td>\n",
       "      <td>220129</td>\n",
       "      <td>230304649</td>\n",
       "      <td>338877866</td>\n",
       "    </tr>\n",
       "    <tr>\n",
       "      <th>3500</th>\n",
       "      <td>360595</td>\n",
       "      <td>4371097</td>\n",
       "      <td>9800665</td>\n",
       "      <td>20596</td>\n",
       "      <td>252633</td>\n",
       "      <td>62361</td>\n",
       "      <td>1908</td>\n",
       "      <td>1112280</td>\n",
       "      <td>614</td>\n",
       "      <td>577453</td>\n",
       "      <td>193840262</td>\n",
       "      <td>322665909</td>\n",
       "    </tr>\n",
       "    <tr>\n",
       "      <th>3501</th>\n",
       "      <td>414902</td>\n",
       "      <td>4654250</td>\n",
       "      <td>2546929</td>\n",
       "      <td>7402</td>\n",
       "      <td>381743</td>\n",
       "      <td>70834</td>\n",
       "      <td>295</td>\n",
       "      <td>1715210</td>\n",
       "      <td>71769</td>\n",
       "      <td>388875</td>\n",
       "      <td>133396536</td>\n",
       "      <td>69646279</td>\n",
       "    </tr>\n",
       "    <tr>\n",
       "      <th>3502</th>\n",
       "      <td>366673</td>\n",
       "      <td>4282569</td>\n",
       "      <td>2926122</td>\n",
       "      <td>6274</td>\n",
       "      <td>288917</td>\n",
       "      <td>73604</td>\n",
       "      <td>743</td>\n",
       "      <td>868914</td>\n",
       "      <td>954</td>\n",
       "      <td>246924</td>\n",
       "      <td>154823862</td>\n",
       "      <td>192644065</td>\n",
       "    </tr>\n",
       "  </tbody>\n",
       "</table>\n",
       "<p>3503 rows × 12 columns</p>\n",
       "</div>"
      ],
      "text/plain": [
       "      branch-misses  cache-misses  L1-dcache-load-misses  \\\n",
       "0            744589        231833                9667348   \n",
       "1            686784        128862               11453249   \n",
       "2            624231        145103               11704343   \n",
       "3            575496        124394               12204268   \n",
       "4            550001        142873               12619649   \n",
       "...             ...           ...                    ...   \n",
       "3498         237016        501004               15003844   \n",
       "3499         228362        420810               15500808   \n",
       "3500         360595       4371097                9800665   \n",
       "3501         414902       4654250                2546929   \n",
       "3502         366673       4282569                2926122   \n",
       "\n",
       "      L1-icache-load-misses  dTLB-load-misses  dTLB-store-misses  \\\n",
       "0                   5162301              6149              16751   \n",
       "1                   4037478             97675              12933   \n",
       "2                   3605909            433630              15492   \n",
       "3                   3401192            786373              17788   \n",
       "4                   3153576            987161              17846   \n",
       "...                     ...               ...                ...   \n",
       "3498                 661795            260152              10639   \n",
       "3499                 620297            412081              14547   \n",
       "3500                  20596            252633              62361   \n",
       "3501                   7402            381743              70834   \n",
       "3502                   6274            288917              73604   \n",
       "\n",
       "      iTLB-load-misses  LLC-load-misses  LLC-store-misses  branch-load-misses  \\\n",
       "0                74810            14514            104936              732020   \n",
       "1                54000            13173             81779              689057   \n",
       "2                66003            13692             76504              618620   \n",
       "3                62934            15787             68350              582222   \n",
       "4                56971            15938             63676              543048   \n",
       "...                ...              ...               ...                 ...   \n",
       "3498              1568            31573            130306              217642   \n",
       "3499              1828            25320            109594              220129   \n",
       "3500              1908          1112280               614              577453   \n",
       "3501               295          1715210             71769              388875   \n",
       "3502               743           868914               954              246924   \n",
       "\n",
       "         cycles  instructions  \n",
       "0     231404681     496362643  \n",
       "1     232051871     472561901  \n",
       "2     231959469     459856782  \n",
       "3     232165588     453432673  \n",
       "4     231676482     444207729  \n",
       "...         ...           ...  \n",
       "3498  229347271     345786721  \n",
       "3499  230304649     338877866  \n",
       "3500  193840262     322665909  \n",
       "3501  133396536      69646279  \n",
       "3502  154823862     192644065  \n",
       "\n",
       "[3503 rows x 12 columns]"
      ]
     },
     "execution_count": 9,
     "metadata": {},
     "output_type": "execute_result"
    }
   ],
   "source": [
    "new523csv"
   ]
  },
  {
   "cell_type": "code",
   "execution_count": 10,
   "id": "057c99c0",
   "metadata": {},
   "outputs": [],
   "source": [
    "import numpy as np\n",
    "import pandas as pd\n",
    "import matplotlib.pyplot as plt\n",
    "# %matplotlib notebook\n",
    "df=new523csv"
   ]
  },
  {
   "cell_type": "code",
   "execution_count": 11,
   "id": "2dceb61d",
   "metadata": {},
   "outputs": [],
   "source": [
    "df['cpi']=df['cycles']/df['instructions']"
   ]
  },
  {
   "cell_type": "code",
   "execution_count": 12,
   "id": "637afb06",
   "metadata": {},
   "outputs": [],
   "source": [
    "# f2=list()\n",
    "# def printCombination(arr, n, r):\n",
    "#     data = [0]*r;\n",
    "#     combinationUtil(arr, data, 0, n - 1, 0, r);\n",
    "# def combinationUtil(arr, data, start, end, index, r):\n",
    "#     if (index == r):\n",
    "#         f1=list()\n",
    "#         for j in range(r):\n",
    "# #             print(data[j], end = \" \");\n",
    "#             f1.append(data[j])\n",
    "# #         print();\n",
    "#         f2.append(f1)\n",
    "#         return;\n",
    "#     i = start; \n",
    "#     while(i <= end and end - i + 1 >= r - index):\n",
    "#         data[index] = arr[i];\n",
    "#         combinationUtil(arr, data, i + 1, end, index + 1, r);\n",
    "#         i += 1;\n",
    "\n",
    "# # Driver Code\n",
    "# arr = [0,1,2,3,4,5,6,7,8,9];\n",
    "# r = 3;\n",
    "# n = len(arr);\n",
    "\n",
    "# for i in range(2,11):\n",
    "#     printCombination(arr, n, i);\n",
    "# # This code is contributed by mits"
   ]
  },
  {
   "cell_type": "code",
   "execution_count": 13,
   "id": "4861217b",
   "metadata": {},
   "outputs": [],
   "source": [
    "# i1=list()\n",
    "# i2=list()\n",
    "# for i in range(33):\n",
    "#     i1.append(i*100)\n",
    "#     i2.append(i*100+100)\n",
    "# print(i1[32],i2[32])"
   ]
  },
  {
   "cell_type": "code",
   "execution_count": 14,
   "id": "02256ae0",
   "metadata": {},
   "outputs": [],
   "source": [
    "# import numpy as np\n",
    "# f3=list()\n",
    "# f4=list()\n",
    "# for l in range(33):\n",
    "#     for i in f2:\n",
    "#         from sklearn.linear_model import LinearRegression\n",
    "#         X = df.iloc[i1[l]:i2[l],i]\n",
    "#         Y = df.iloc[i1[l]:i2[l], 12:]\n",
    "#         from sklearn.model_selection import train_test_split\n",
    "#         X_train, X_test, y_train, y_test = train_test_split(X, Y, test_size=0.30, random_state=42)\n",
    "#         regr = LinearRegression()\n",
    "#         regr.fit(X_train, y_train)\n",
    "#         count=0\n",
    "#         for j in regr.coef_[0]:\n",
    "#             if j<0:\n",
    "#                 count+=1\n",
    "#         if count==0 and len(i)>=7:\n",
    "#             f3.append(i)\n",
    "#             f4.append(l)\n",
    "            "
   ]
  },
  {
   "cell_type": "code",
   "execution_count": 15,
   "id": "328971b8",
   "metadata": {},
   "outputs": [],
   "source": [
    "# for i in f3:\n",
    "#     print(i)"
   ]
  },
  {
   "cell_type": "code",
   "execution_count": 16,
   "id": "3dec6c3e",
   "metadata": {},
   "outputs": [],
   "source": [
    "# for z in f4:\n",
    "#     print(z)"
   ]
  },
  {
   "cell_type": "code",
   "execution_count": 17,
   "id": "3e9b886e",
   "metadata": {},
   "outputs": [
    {
     "data": {
      "text/plain": [
       "array([[0.01068126, 0.01178457, 0.02511751, 0.02637422, 0.00200273,\n",
       "        0.01199596, 0.01675248, 0.02863763]])"
      ]
     },
     "execution_count": 17,
     "metadata": {},
     "output_type": "execute_result"
    }
   ],
   "source": [
    "from sklearn.linear_model import LinearRegression\n",
    "from sklearn.preprocessing import StandardScaler\n",
    "scaler=StandardScaler()\n",
    "i=[0, 2, 3, 4, 5, 6, 7, 9]\n",
    "X = df.iloc[3200:3300,i]\n",
    "Y = df.iloc[3200:3300, 12:]\n",
    "\n",
    "from sklearn.model_selection import train_test_split\n",
    "X_train, X_test, y_train, y_test = train_test_split(X, Y, test_size=0.30, random_state=42)\n",
    "X_train=scaler.fit_transform(X_train)\n",
    "X_test=scaler.transform(X_test)\n",
    "regr = LinearRegression()\n",
    "regr.fit(X_train, y_train)\n",
    "regr.coef_"
   ]
  },
  {
   "cell_type": "code",
   "execution_count": 18,
   "id": "c5dde7ed",
   "metadata": {},
   "outputs": [
    {
     "data": {
      "text/plain": [
       "[2521.6483789271833,\n",
       " 185234.37695881602,\n",
       " 16514.2443988587,\n",
       " 7587.9385274217075,\n",
       " 26.192375466410812,\n",
       " 29.97165803982351,\n",
       " 369.12889034750094,\n",
       " 6719.757997810317]"
      ]
     },
     "execution_count": 18,
     "metadata": {},
     "output_type": "execute_result"
    }
   ],
   "source": [
    "a=list(X.describe().iloc[1,:])\n",
    "b=regr.coef_[0]\n",
    "cpi_stack=list()\n",
    "for j in range(len(i)):\n",
    "    cpi_stack.append(a[j]*b[j])\n",
    "cpi_stack"
   ]
  },
  {
   "cell_type": "code",
   "execution_count": 19,
   "id": "509f80af",
   "metadata": {},
   "outputs": [],
   "source": [
    "# y_pred = list(regr.predict(X_test))\n",
    "# yt=list(y_test['cpi'])\n",
    "yp=regr.predict(X_test)\n",
    "\n",
    "# plt.plot(range(2287),yt,label=\"test\")\n",
    "# plt.plot(range(2287),y_pred,label=\"pred\")\n",
    "# plt.legend()"
   ]
  },
  {
   "cell_type": "code",
   "execution_count": 20,
   "id": "9c99d105",
   "metadata": {},
   "outputs": [],
   "source": [
    "# import seaborn as sns\n",
    "# sns.displot(yp-y_test,kind='kde')"
   ]
  },
  {
   "cell_type": "code",
   "execution_count": 21,
   "id": "e2169051",
   "metadata": {},
   "outputs": [
    {
     "name": "stdout",
     "output_type": "stream",
     "text": [
      "0.009366937173704707\n"
     ]
    }
   ],
   "source": [
    "a=yp-y_test\n",
    "residual=a.describe().iloc[1,0]\n",
    "print(residual)"
   ]
  },
  {
   "cell_type": "code",
   "execution_count": 22,
   "id": "4fc34bd9",
   "metadata": {},
   "outputs": [],
   "source": [
    "from sklearn.metrics import r2_score"
   ]
  },
  {
   "cell_type": "code",
   "execution_count": 23,
   "id": "bd6456b1",
   "metadata": {},
   "outputs": [],
   "source": [
    "r2=r2_score(yp, y_test)"
   ]
  },
  {
   "cell_type": "code",
   "execution_count": 24,
   "id": "e4fb1b99",
   "metadata": {},
   "outputs": [
    {
     "data": {
      "text/plain": [
       "0.7725915763647468"
      ]
     },
     "execution_count": 24,
     "metadata": {},
     "output_type": "execute_result"
    }
   ],
   "source": [
    "r2"
   ]
  },
  {
   "cell_type": "code",
   "execution_count": 25,
   "id": "62dfedd3",
   "metadata": {},
   "outputs": [
    {
     "data": {
      "text/plain": [
       "0.0009897695398344275"
      ]
     },
     "execution_count": 25,
     "metadata": {},
     "output_type": "execute_result"
    }
   ],
   "source": [
    "from sklearn.metrics import mean_squared_error\n",
    "rmse=mean_squared_error(yp, y_test)\n",
    "rmse"
   ]
  },
  {
   "cell_type": "code",
   "execution_count": 26,
   "id": "7eb0f5d1",
   "metadata": {},
   "outputs": [],
   "source": [
    "adjustedr2=1 - (1-r2)*(X_train.shape[0]-1)/(X_train.shape[0]-X_train.shape[1]-1)"
   ]
  },
  {
   "cell_type": "code",
   "execution_count": 27,
   "id": "80f8707b",
   "metadata": {},
   "outputs": [
    {
     "data": {
      "text/plain": [
       "0.7427675208060251"
      ]
     },
     "execution_count": 27,
     "metadata": {},
     "output_type": "execute_result"
    }
   ],
   "source": [
    "adjustedr2"
   ]
  },
  {
   "cell_type": "code",
   "execution_count": 28,
   "id": "d33eeb5f",
   "metadata": {},
   "outputs": [],
   "source": [
    "from sklearn.feature_selection import f_regression"
   ]
  },
  {
   "cell_type": "code",
   "execution_count": 29,
   "id": "3de06363",
   "metadata": {},
   "outputs": [
    {
     "name": "stderr",
     "output_type": "stream",
     "text": [
      "C:\\Users\\Arun kumar\\anaconda3\\lib\\site-packages\\sklearn\\utils\\validation.py:993: DataConversionWarning: A column-vector y was passed when a 1d array was expected. Please change the shape of y to (n_samples, ), for example using ravel().\n",
      "  y = column_or_1d(y, warn=True)\n"
     ]
    },
    {
     "data": {
      "text/plain": [
       "array([7.36528014e-16, 1.46299195e-02, 6.85648809e-13, 1.28802859e-07,\n",
       "       1.89945112e-01, 1.28238417e-03, 1.32612623e-01, 1.08646536e-16])"
      ]
     },
     "execution_count": 29,
     "metadata": {},
     "output_type": "execute_result"
    }
   ],
   "source": [
    "f_stat,p_value=f_regression(X_train,y_train)\n",
    "p_value"
   ]
  },
  {
   "cell_type": "code",
   "execution_count": 33,
   "id": "1afe86ce",
   "metadata": {},
   "outputs": [
    {
     "name": "stdout",
     "output_type": "stream",
     "text": [
      "[110.1037606    6.27720632  77.96256765  34.76957002   1.75290722\n",
      "  11.2878312    2.31689047 120.32931177] [7.36528014e-16 1.46299195e-02 6.85648809e-13 1.28802859e-07\n",
      " 1.89945112e-01 1.28238417e-03 1.32612623e-01 1.08646536e-16]\n"
     ]
    },
    {
     "name": "stderr",
     "output_type": "stream",
     "text": [
      "C:\\Users\\Arun kumar\\anaconda3\\lib\\site-packages\\sklearn\\utils\\validation.py:993: DataConversionWarning: A column-vector y was passed when a 1d array was expected. Please change the shape of y to (n_samples, ), for example using ravel().\n",
      "  y = column_or_1d(y, warn=True)\n"
     ]
    }
   ],
   "source": [
    "f_stat,p_value=f_regression(X_train,y_train)\n",
    "print(f_stat,p_value)"
   ]
  },
  {
   "cell_type": "raw",
   "id": "0d1f34b2",
   "metadata": {},
   "source": [
    "Related Data to 523\n",
    "feature selected  - > ['branch-misses', 'L1-dcache-load-misses', 'L1-icache-load-misses', 'dTLB-load-misses', 'dTLB-store-misses', 'iTLB-load-misses', 'LLC-load-misses', 'branch-load-misses']\n",
    "rmse  - > 0.0009897695398344275\n",
    "(accuracy)r square -> 0.7725915763647468\n",
    "Adjusted R2 - > 0.7427675208060251\n",
    "resudual -> 0.009366937173704707\n",
    "fstatic -> [110.1037606, 6.27720632, 77.96256765, 34.76957002, 1.75290722, 11.2878312, 2.31689047, 120.32931177] \n",
    "p_value ->[7.36528014e-16, 1.46299195e-02, 6.85648809e-13, 1.28802859e-07, 1.89945112e-01, 1.28238417e-03, 1.32612623e-01, 1.08646536e-16]\n",
    "Coefficient ->array([[0.01068126, 0.01178457, 0.02511751, 0.02637422, 0.00200273, 0.01199596, 0.01675248, 0.02863763]])\n",
    "cpi stack - > [2521.6483789271833, 185234.37695881602, 16514.2443988587, 7587.9385274217075, 26.192375466410812, 29.97165803982351, 369.12889034750094, 6719.757997810317]"
   ]
  },
  {
   "cell_type": "code",
   "execution_count": null,
   "id": "fe9c2331",
   "metadata": {},
   "outputs": [],
   "source": []
  }
 ],
 "metadata": {
  "kernelspec": {
   "display_name": "Python 3 (ipykernel)",
   "language": "python",
   "name": "python3"
  },
  "language_info": {
   "codemirror_mode": {
    "name": "ipython",
    "version": 3
   },
   "file_extension": ".py",
   "mimetype": "text/x-python",
   "name": "python",
   "nbconvert_exporter": "python",
   "pygments_lexer": "ipython3",
   "version": "3.9.12"
  }
 },
 "nbformat": 4,
 "nbformat_minor": 5
}
