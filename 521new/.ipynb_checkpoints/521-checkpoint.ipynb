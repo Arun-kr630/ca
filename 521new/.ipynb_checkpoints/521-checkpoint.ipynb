{
 "cells": [
  {
   "cell_type": "code",
   "execution_count": 1,
   "id": "178121de",
   "metadata": {},
   "outputs": [],
   "source": [
    "import pandas as pd"
   ]
  },
  {
   "cell_type": "code",
   "execution_count": 2,
   "id": "791217bf",
   "metadata": {},
   "outputs": [],
   "source": [
    "df=pd.read_csv('newdata.csv')"
   ]
  },
  {
   "cell_type": "code",
   "execution_count": 3,
   "id": "64149466",
   "metadata": {},
   "outputs": [],
   "source": [
    "df.columns=['A','B','C','D','E']\n",
    "df.head(10)\n",
    "df=df.drop(['A'], axis=1)\n",
    "df=df.drop([0,1])\n",
    "i1=list(df[df['C']=='counts unit'].index)\n",
    "df=df.drop(i1)\n",
    "df[df['C']=='counts unit']\n",
    "df.to_csv('file521.csv')"
   ]
  },
  {
   "cell_type": "code",
   "execution_count": 4,
   "id": "68b7f09a",
   "metadata": {},
   "outputs": [],
   "source": [
    "ddf=pd.read_csv('file521.csv')\n",
    "ddf.columns=['a','b','c','d','e']\n",
    "i1=list(ddf[ddf['c']=='counts unit'].index)\n",
    "ddf=ddf.drop(i1)\n",
    "# ddf[ddf['c']=='counts unit']"
   ]
  },
  {
   "cell_type": "code",
   "execution_count": 5,
   "id": "6694b6d0",
   "metadata": {},
   "outputs": [],
   "source": [
    "l=list(ddf['c'])"
   ]
  },
  {
   "cell_type": "code",
   "execution_count": 6,
   "id": "c60a3af9",
   "metadata": {},
   "outputs": [
    {
     "name": "stdout",
     "output_type": "stream",
     "text": [
      "7632 7632 7632 7632 7632 7632 7632 7632 7632 7632 7632 7632\n"
     ]
    }
   ],
   "source": [
    "i=0\n",
    "l1=list()\n",
    "l2=list()\n",
    "l3=list()\n",
    "l4=list()\n",
    "l5=list()\n",
    "l6=list()\n",
    "l7=list()\n",
    "l8=list()\n",
    "l9=list()\n",
    "l10=list()\n",
    "l11=list()\n",
    "l12=list()\n",
    "\n",
    "while i<len(l)-12:\n",
    "    l1.append(int(l[i].replace(',', '')))\n",
    "    l2.append(int(l[i+1].replace(',', '')))\n",
    "    l3.append(int(l[2+i].replace(',', '')))\n",
    "    l4.append(int(l[3+i].replace(',', '')))\n",
    "    l5.append(int(l[4+i].replace(',', '')))\n",
    "    l6.append(int(l[5+i].replace(',', '')))\n",
    "    l7.append(int(l[6+i].replace(',', '')))\n",
    "    l8.append(int(l[7+i].replace(',', '')))\n",
    "    l9.append(int(l[8+i].replace(',', '')))\n",
    "    l10.append(int(l[9+i].replace(',', '')))\n",
    "    l11.append(int(l[10+i].replace(',', '')))\n",
    "    l12.append(int(l[11+i].replace(',', '')))\n",
    "    i+=12\n",
    "print(len(l1),len(l2),len(l3),len(l4),len(l5),len(l6),len(l7),len(l8),len(l9),len(l10),len(l11),len(l12))"
   ]
  },
  {
   "cell_type": "code",
   "execution_count": 7,
   "id": "d25e9123",
   "metadata": {},
   "outputs": [],
   "source": [
    "events = {'branch-misses' : l1,'cache-misses' : l2,'L1-dcache-load-misses' : l3,'L1-icache-load-misses' : l4,\n",
    "\t'dTLB-load-misses' : l5,\n",
    "\t'dTLB-store-misses' : l6,\n",
    "    'iTLB-load-misses' : l7,\n",
    "\t'LLC-load-misses' : l8,\n",
    "\t'LLC-store-misses' : l9,\n",
    "    'branch-load-misses' : l10,\n",
    "\t'cycles' : l11,\n",
    "\t'instructions' : l12\n",
    "}\n",
    "new521csv = pd.DataFrame(events)"
   ]
  },
  {
   "cell_type": "code",
   "execution_count": 8,
   "id": "114128fc",
   "metadata": {},
   "outputs": [],
   "source": [
    "new521csv.to_csv('new521csv.csv')"
   ]
  },
  {
   "cell_type": "code",
   "execution_count": 9,
   "id": "7b86db6a",
   "metadata": {},
   "outputs": [],
   "source": [
    "import numpy as np\n",
    "import pandas as pd\n",
    "import matplotlib.pyplot as plt\n",
    "# %matplotlib notebook\n",
    "df=new521csv"
   ]
  },
  {
   "cell_type": "code",
   "execution_count": 10,
   "id": "ee6cee94",
   "metadata": {},
   "outputs": [],
   "source": [
    "df['cpi']=df['cycles']/df['instructions']"
   ]
  },
  {
   "cell_type": "code",
   "execution_count": 11,
   "id": "70135357",
   "metadata": {},
   "outputs": [],
   "source": [
    "f2=list()\n",
    "def printCombination(arr, n, r):\n",
    "    data = [0]*r;\n",
    "    combinationUtil(arr, data, 0, n - 1, 0, r);\n",
    "def combinationUtil(arr, data, start, end, index, r):\n",
    "    if (index == r):\n",
    "        f1=list()\n",
    "        for j in range(r):\n",
    "#             print(data[j], end = \" \");\n",
    "            f1.append(data[j])\n",
    "#         print();\n",
    "        f2.append(f1)\n",
    "        return;\n",
    "    i = start; \n",
    "    while(i <= end and end - i + 1 >= r - index):\n",
    "        data[index] = arr[i];\n",
    "        combinationUtil(arr, data, i + 1, end, index + 1, r);\n",
    "        i += 1;\n",
    "\n",
    "# Driver Code\n",
    "arr = [0,1,2,3,4,5,6,7,8,9];\n",
    "r = 3;\n",
    "n = len(arr);\n",
    "\n",
    "for i in range(2,11):\n",
    "    printCombination(arr, n, i);\n",
    "# This code is contributed by mits"
   ]
  },
  {
   "cell_type": "code",
   "execution_count": 12,
   "id": "bccb1218",
   "metadata": {},
   "outputs": [],
   "source": [
    "import numpy as np\n",
    "f3=list()\n",
    "for i in f2:\n",
    "    from sklearn.linear_model import LinearRegression\n",
    "    X = df.iloc[:,i]\n",
    "    Y = df.iloc[:, 12:]\n",
    "    from sklearn.model_selection import train_test_split\n",
    "    X_train, X_test, y_train, y_test = train_test_split(X, Y, test_size=0.30, random_state=42)\n",
    "    regr = LinearRegression()\n",
    "    regr.fit(X_train, y_train)\n",
    "    count=0\n",
    "    for j in regr.coef_[0]:\n",
    "        if j<0:\n",
    "            count+=1\n",
    "    if count<=1:\n",
    "        f3.append(i)"
   ]
  },
  {
   "cell_type": "code",
   "execution_count": 13,
   "id": "3a2740ec",
   "metadata": {},
   "outputs": [
    {
     "name": "stdout",
     "output_type": "stream",
     "text": [
      "[0, 1]\n",
      "[0, 2]\n",
      "[0, 3]\n",
      "[0, 4]\n",
      "[0, 5]\n",
      "[0, 6]\n",
      "[0, 7]\n",
      "[0, 8]\n",
      "[0, 9]\n",
      "[1, 9]\n",
      "[2, 9]\n",
      "[3, 9]\n",
      "[4, 9]\n",
      "[5, 9]\n",
      "[6, 7]\n",
      "[6, 9]\n",
      "[7, 9]\n",
      "[8, 9]\n",
      "[0, 6, 7]\n",
      "[6, 7, 9]\n"
     ]
    }
   ],
   "source": [
    "for i in f3:\n",
    "    print(i)"
   ]
  },
  {
   "cell_type": "code",
   "execution_count": 27,
   "id": "fa9376ce",
   "metadata": {},
   "outputs": [
    {
     "data": {
      "text/plain": [
       "array([[ 0.00233834, -0.07574403,  0.05237645]])"
      ]
     },
     "execution_count": 27,
     "metadata": {},
     "output_type": "execute_result"
    }
   ],
   "source": [
    "from sklearn.linear_model import LinearRegression\n",
    "from sklearn.preprocessing import StandardScaler\n",
    "scaler=StandardScaler()\n",
    "i=[3, 4, 5, 7, 9]\n",
    "X = df.iloc[:,i]\n",
    "Y = df.iloc[:, 12:]\n",
    "\n",
    "from sklearn.model_selection import train_test_split\n",
    "X_train, X_test, y_train, y_test = train_test_split(X, Y, test_size=0.30, random_state=42)\n",
    "X_train=scaler.fit_transform(X_train)\n",
    "X_test=scaler.transform(X_test)\n",
    "regr = LinearRegression()\n",
    "regr.fit(X_train, y_train)\n",
    "regr.coef_"
   ]
  },
  {
   "cell_type": "code",
   "execution_count": 15,
   "id": "a99bf6d8",
   "metadata": {},
   "outputs": [
    {
     "data": {
      "text/plain": [
       "[-13807.50186761589,\n",
       " -556.2096821660754,\n",
       " 255.97469841564737,\n",
       " -4197.619115574494,\n",
       " -3613.600428046966]"
      ]
     },
     "execution_count": 15,
     "metadata": {},
     "output_type": "execute_result"
    }
   ],
   "source": [
    "a=list(X.describe().iloc[1,:])\n",
    "b=regr.coef_[0]\n",
    "cpi_stack=list()\n",
    "for i in range(5):\n",
    "    cpi_stack.append(a[i]*b[i])\n",
    "cpi_stack"
   ]
  },
  {
   "cell_type": "code",
   "execution_count": 16,
   "id": "a7f616f1",
   "metadata": {},
   "outputs": [],
   "source": [
    "# y_pred = list(regr.predict(X_test))\n",
    "# yt=list(y_test['cpi'])\n",
    "yp=regr.predict(X_test)\n",
    "\n",
    "# plt.plot(range(2287),yt,label=\"test\")\n",
    "# plt.plot(range(2287),y_pred,label=\"pred\")\n",
    "# plt.legend()"
   ]
  },
  {
   "cell_type": "code",
   "execution_count": 17,
   "id": "0956404d",
   "metadata": {
    "scrolled": true
   },
   "outputs": [
    {
     "data": {
      "text/plain": [
       "<seaborn.axisgrid.FacetGrid at 0x175636601f0>"
      ]
     },
     "execution_count": 17,
     "metadata": {},
     "output_type": "execute_result"
    },
    {
     "data": {
      "image/png": "[encoded data removed]",
      "text/plain": [
       "<Figure size 410.625x360 with 1 Axes>"
      ]
     },
     "metadata": {
      "needs_background": "light"
     },
     "output_type": "display_data"
    }
   ],
   "source": [
    "import seaborn as sns\n",
    "sns.displot(yp-y_test,kind='kde')"
   ]
  },
  {
   "cell_type": "code",
   "execution_count": 18,
   "id": "dfec3175",
   "metadata": {},
   "outputs": [
    {
     "name": "stdout",
     "output_type": "stream",
     "text": [
      "-0.0008736326088385752\n"
     ]
    }
   ],
   "source": [
    "a=yp-y_test\n",
    "residual=a.describe().iloc[1,0]\n",
    "print(residual)"
   ]
  },
  {
   "cell_type": "code",
   "execution_count": 19,
   "id": "078a8ede",
   "metadata": {},
   "outputs": [],
   "source": [
    "from sklearn.metrics import r2_score"
   ]
  },
  {
   "cell_type": "code",
   "execution_count": 20,
   "id": "8423c2e3",
   "metadata": {},
   "outputs": [],
   "source": [
    "r2=r2_score(yp, y_test)"
   ]
  },
  {
   "cell_type": "code",
   "execution_count": 21,
   "id": "66032438",
   "metadata": {},
   "outputs": [
    {
     "data": {
      "text/plain": [
       "0.1660283055383991"
      ]
     },
     "execution_count": 21,
     "metadata": {},
     "output_type": "execute_result"
    }
   ],
   "source": [
    "r2"
   ]
  },
  {
   "cell_type": "code",
   "execution_count": 22,
   "id": "65211705",
   "metadata": {},
   "outputs": [
    {
     "data": {
      "text/plain": [
       "0.018746222025216742"
      ]
     },
     "execution_count": 22,
     "metadata": {},
     "output_type": "execute_result"
    }
   ],
   "source": [
    "from sklearn.metrics import mean_squared_error\n",
    "rmse=mean_squared_error(yp, y_test)\n",
    "rmse"
   ]
  },
  {
   "cell_type": "code",
   "execution_count": 23,
   "id": "94fe3470",
   "metadata": {},
   "outputs": [],
   "source": [
    "adjustedr2=1 - (1-r2)*(X_train.shape[0]-1)/(X_train.shape[0]-X_train.shape[1]-1)"
   ]
  },
  {
   "cell_type": "code",
   "execution_count": 24,
   "id": "49e8c85d",
   "metadata": {},
   "outputs": [
    {
     "data": {
      "text/plain": [
       "0.16524684780370869"
      ]
     },
     "execution_count": 24,
     "metadata": {},
     "output_type": "execute_result"
    }
   ],
   "source": [
    "adjustedr2"
   ]
  },
  {
   "cell_type": "code",
   "execution_count": 25,
   "id": "b2cf71ca",
   "metadata": {},
   "outputs": [],
   "source": [
    "from sklearn.feature_selection import f_regression"
   ]
  },
  {
   "cell_type": "code",
   "execution_count": 26,
   "id": "9cfc8f79",
   "metadata": {},
   "outputs": [
    {
     "name": "stderr",
     "output_type": "stream",
     "text": [
      "C:\\Users\\Arun kumar\\anaconda3\\lib\\site-packages\\sklearn\\utils\\validation.py:993: DataConversionWarning: A column-vector y was passed when a 1d array was expected. Please change the shape of y to (n_samples, ), for example using ravel().\n",
      "  y = column_or_1d(y, warn=True)\n"
     ]
    },
    {
     "data": {
      "text/plain": [
       "array([6.40274296e-218, 1.75260062e-210, 7.76697191e-143, 1.96202450e-214,\n",
       "       4.37564405e-127])"
      ]
     },
     "execution_count": 26,
     "metadata": {},
     "output_type": "execute_result"
    }
   ],
   "source": [
    "f_stat,p_value=f_regression(X_train,y_train)\n",
    "p_value"
   ]
  },
  {
   "cell_type": "code",
   "execution_count": null,
   "id": "c03ed54d",
   "metadata": {},
   "outputs": [],
   "source": []
  },
  {
   "cell_type": "code",
   "execution_count": null,
   "id": "4f59b1b0",
   "metadata": {},
   "outputs": [],
   "source": []
  }
 ],
 "metadata": {
  "kernelspec": {
   "display_name": "Python 3 (ipykernel)",
   "language": "python",
   "name": "python3"
  },
  "language_info": {
   "codemirror_mode": {
    "name": "ipython",
    "version": 3
   },
   "file_extension": ".py",
   "mimetype": "text/x-python",
   "name": "python",
   "nbconvert_exporter": "python",
   "pygments_lexer": "ipython3",
   "version": "3.9.12"
  }
 },
 "nbformat": 4,
 "nbformat_minor": 5
}
